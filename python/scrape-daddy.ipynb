{
 "cells": [
  {
   "cell_type": "code",
   "execution_count": 2,
   "metadata": {
    "collapsed": true,
    "deletable": true,
    "editable": true
   },
   "outputs": [],
   "source": [
    "import requests\n",
    "from bs4 import BeautifulSoup\n",
    "import pandas as pd"
   ]
  },
  {
   "cell_type": "code",
   "execution_count": 18,
   "metadata": {
    "collapsed": false,
    "deletable": true,
    "editable": true
   },
   "outputs": [
    {
     "data": {
      "text/plain": [
       "['41',\n",
       " '7',\n",
       " '28',\n",
       " '24',\n",
       " '6',\n",
       " '16',\n",
       " '34',\n",
       " '17',\n",
       " '30',\n",
       " '17',\n",
       " '33',\n",
       " '27',\n",
       " '24',\n",
       " '24',\n",
       " '10',\n",
       " '28']"
      ]
     },
     "execution_count": 18,
     "metadata": {},
     "output_type": "execute_result"
    }
   ],
   "source": [
    "url = 'http://www.nfl.com/scores/2017/REG3'\n",
    "response = requests.get(url)\n",
    "html = response.content\n",
    "soup = BeautifulSoup(html, \"html.parser\")\n",
    "mainContainer = soup.find(id=\"score-boxes\")\n",
    "#mainContainer = soup.find(class_=\"score-boxes\")\n",
    "scoreBoard = mainContainer.find_all(class_=\"scorebox-wrapper\")\n",
    "\n",
    "# awayTeam = scoreBoard.find(class_=\"away-team\")\n",
    "# homeTeam = scoreBoard.find(class_=\"home-team\")\n",
    "# awayTeamScore = awayTeam.find(class_=\"total-score\").get_text()\n",
    "# homeTeamScore = homeTeam.find(class_=\"total-score\").get_text()\n",
    "# awayTeamName = awayTeam.find(class_=\"team-name\").find('a').get_text()\n",
    "# homeTeamName = homeTeam.find(class_=\"team-name\").find('a').get_text()\n",
    "# print(\"Home Team: \"+homeTeamName+\", Score: \"+homeTeamScore)\n",
    "# print(\"Away Team: \"+awayTeamName+\", Score: \"+awayTeamScore)\n",
    "scoreBoard\n",
    "awayScores = [sd.get_text() for sd in mainContainer.select(\".away-team .total-score\")]\n",
    "awayTeams = [sd.get_text() for sd in mainContainer.select(\".away-team .team-name\")]\n",
    "homeScores = [sd.get_text() for sd in mainContainer.select(\".home-te .total-score\")]\n",
    "homeTeams = [sd.get_text() for sd in mainContainer.select(\".away-team .total-score\")]\n",
    "short_descs"
   ]
  },
  {
   "cell_type": "code",
   "execution_count": null,
   "metadata": {
    "collapsed": true
   },
   "outputs": [],
   "source": []
  },
  {
   "cell_type": "code",
   "execution_count": null,
   "metadata": {
    "collapsed": true,
    "deletable": true,
    "editable": true
   },
   "outputs": [],
   "source": []
  },
  {
   "cell_type": "code",
   "execution_count": 14,
   "metadata": {
    "collapsed": false,
    "deletable": true,
    "editable": true
   },
   "outputs": [
    {
     "name": "stdout",
     "output_type": "stream",
     "text": [
      "[]\n"
     ]
    }
   ],
   "source": [
    "#print(soup.prettify())\n",
    "\n",
    "headlines = "
   ]
  }
 ],
 "metadata": {
  "kernelspec": {
   "display_name": "Python 3",
   "language": "python",
   "name": "python3"
  },
  "language_info": {
   "codemirror_mode": {
    "name": "ipython",
    "version": 3
   },
   "file_extension": ".py",
   "mimetype": "text/x-python",
   "name": "python",
   "nbconvert_exporter": "python",
   "pygments_lexer": "ipython3",
   "version": "3.6.0"
  }
 },
 "nbformat": 4,
 "nbformat_minor": 2
}
