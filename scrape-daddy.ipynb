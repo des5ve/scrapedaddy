{
 "cells": [
  {
   "cell_type": "code",
   "execution_count": 2,
   "metadata": {
    "collapsed": true
   },
   "outputs": [],
   "source": [
    "import requests\n",
    "from bs4 import BeautifulSoup"
   ]
  },
  {
   "cell_type": "code",
   "execution_count": 26,
   "metadata": {
    "collapsed": false
   },
   "outputs": [
    {
     "data": {
      "text/plain": [
       "[<div class=\"scoreboards\" data-behavior=\"scoreboard\" data-date-data=\"null\" data-is-default-group=\"true\" id=\"scoreboard-page\"><header class=\"automated-header\"><h1>MLB Scoreboard</h1></header><div class=\"carousel-wrap\"><div class=\"carousel-week\"><span class=\"firstDay\"></span><span class=\"lastDay\"></span></div><div class=\"date-picker-carousel\"></div><div class=\"calendar-container\" data-behavior=\"date_picker\" data-startdate=\"2002-04-01\" data-thisdate=\"20170920\"><a class=\"datepicker date icon\" data-route=\"false\"></a></div></div><div class=\"carousel-day\"><span class=\"date\" id=\"sbpDate\"></span></div><span class=\"simpleToggle\">Auto Update: <span>On</span></span><div id=\"events\"></div><div class=\"sponsored-headlines\"><h2>Sponsored Headlines</h2><div class=\"OUTBRAIN\" data-is-secured=\"true\" data-ob-template=\"espn\" data-src=\"http://www.espn.com/mlb/scoreboard?date=20170920\" data-widget-id=\"AR_50\"></div></div></div>]"
      ]
     },
     "execution_count": 26,
     "metadata": {},
     "output_type": "execute_result"
    }
   ],
   "source": [
    "url = 'http://www.espn.com/mlb/scoreboard'\n",
    "response = requests.get(url)\n",
    "html = response.content\n",
    "soup = BeautifulSoup(html, \"html.parser\")\n",
    "\n",
    "mainContainer = soup.find(id=\"main-container\")\n",
    "scoreBoard = mainContainer.find_all(id=\"scoreboard-page\")\n",
    "\n",
    "scoreBoard"
   ]
  },
  {
   "cell_type": "code",
   "execution_count": 14,
   "metadata": {
    "collapsed": false
   },
   "outputs": [
    {
     "name": "stdout",
     "output_type": "stream",
     "text": [
      "[]\n"
     ]
    }
   ],
   "source": [
    "#print(soup.prettify())\n",
    "\n",
    "headlines = "
   ]
  }
 ],
 "metadata": {
  "kernelspec": {
   "display_name": "Python 3",
   "language": "python",
   "name": "python3"
  },
  "language_info": {
   "codemirror_mode": {
    "name": "ipython",
    "version": 3
   },
   "file_extension": ".py",
   "mimetype": "text/x-python",
   "name": "python",
   "nbconvert_exporter": "python",
   "pygments_lexer": "ipython3",
   "version": "3.6.0"
  }
 },
 "nbformat": 4,
 "nbformat_minor": 2
}
