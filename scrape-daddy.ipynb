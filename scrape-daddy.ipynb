{
 "cells": [
  {
   "cell_type": "code",
   "execution_count": 2,
   "metadata": {
    "collapsed": true,
    "deletable": true,
    "editable": true
   },
   "outputs": [],
   "source": [
    "import requests\n",
    "from bs4 import BeautifulSoup"
   ]
  },
  {
   "cell_type": "code",
   "execution_count": 11,
   "metadata": {
    "collapsed": false,
    "deletable": true,
    "editable": true
   },
   "outputs": [
    {
     "ename": "SyntaxError",
     "evalue": "invalid syntax (<ipython-input-11-23c28d6b0c9d>, line 13)",
     "output_type": "error",
     "traceback": [
      "\u001b[0;36m  File \u001b[0;32m\"<ipython-input-11-23c28d6b0c9d>\"\u001b[0;36m, line \u001b[0;32m13\u001b[0m\n\u001b[0;31m    homeTeamName = homeTeam.find(class=\"team-name\").find('a').get_text()\u001b[0m\n\u001b[0m                                     ^\u001b[0m\n\u001b[0;31mSyntaxError\u001b[0m\u001b[0;31m:\u001b[0m invalid syntax\n"
     ]
    }
   ],
   "source": [
    "url = 'http://www.nfl.com/scores/2017/REG3'\n",
    "response = requests.get(url)\n",
    "html = response.content\n",
    "soup = BeautifulSoup(html, \"html.parser\")\n",
    "mainContainer = soup.find(id=\"score-boxes\")\n",
    "#mainContainer = soup.find(class_=\"score-boxes\")\n",
    "scoreBoard = mainContainer.find(class_=\"scorebox-wrapper\")\n",
    "awayTeam = scoreBoard.find(class_=\"away-team\")\n",
    "homeTeam = scoreBoard.find(class_=\"home-team\")\n",
    "awayTeamScore = awayTeam.find(class_=\"total-score\").get_text()\n",
    "homeTeamScore = homeTeam.find(class_=\"total-score\").get_text()\n",
    "awayTeamName = awayTeam.find(class_=\"team-name\").find('a').get_text()\n",
    "homeTeamName = homeTeam.find(class_=\"team-name\").find('a').get_text()\n",
    "print(\"Home Team: \"+homeTeamName)"
   ]
  },
  {
   "cell_type": "code",
   "execution_count": null,
   "metadata": {
    "collapsed": true,
    "deletable": true,
    "editable": true
   },
   "outputs": [],
   "source": []
  },
  {
   "cell_type": "code",
   "execution_count": 14,
   "metadata": {
    "collapsed": false,
    "deletable": true,
    "editable": true
   },
   "outputs": [
    {
     "name": "stdout",
     "output_type": "stream",
     "text": [
      "[]\n"
     ]
    }
   ],
   "source": [
    "#print(soup.prettify())\n",
    "\n",
    "headlines = "
   ]
  }
 ],
 "metadata": {
  "kernelspec": {
   "display_name": "Python 3",
   "language": "python",
   "name": "python3"
  },
  "language_info": {
   "codemirror_mode": {
    "name": "ipython",
    "version": 3
   },
   "file_extension": ".py",
   "mimetype": "text/x-python",
   "name": "python",
   "nbconvert_exporter": "python",
   "pygments_lexer": "ipython3",
   "version": "3.6.0"
  }
 },
 "nbformat": 4,
 "nbformat_minor": 2
}
