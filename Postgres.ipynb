{
 "cells": [
  {
   "cell_type": "code",
   "execution_count": 1,
   "metadata": {
    "collapsed": true
   },
   "outputs": [],
   "source": [
    "import psycopg2"
   ]
  },
  {
   "cell_type": "code",
   "execution_count": null,
   "metadata": {
    "collapsed": true
   },
   "outputs": [],
   "source": [
    "try:\n",
    "    conn=psycopg2.connect(\"dbname='template1' user='dbuser' password='mypass'\")\n",
    "except:\n",
    "    print \"I am unable to connect to the database.\""
   ]
  },
  {
   "cell_type": "code",
   "execution_count": 5,
   "metadata": {},
   "outputs": [],
   "source": [
    "conn = psycopg2.connect(host=\"ec2-18-221-213-202.us-east-2.compute.amazonaws.com\", port=\"5432\",\n",
    "                        database=\"nfldb\", user=\"Shashank\", password=\"shashank\")\n",
    "cursor = conn.cursor()"
   ]
  },
  {
   "cell_type": "code",
   "execution_count": 11,
   "metadata": {},
   "outputs": [
    {
     "name": "stdout",
     "output_type": "stream",
     "text": [
      "PostgreSQL database version:\n",
      "('ARI', 'Arizona', 'Cardinals')\n",
      "('ATL', 'Atlanta', 'Falcons')\n",
      "('BAL', 'Baltimore', 'Ravens')\n",
      "('BUF', 'Buffalo', 'Bills')\n",
      "('CAR', 'Carolina', 'Panthers')\n",
      "('CHI', 'Chicago', 'Bears')\n",
      "('CIN', 'Cincinnati', 'Bengals')\n",
      "('CLE', 'Cleveland', 'Browns')\n",
      "('DAL', 'Dallas', 'Cowboys')\n",
      "('DEN', 'Denver', 'Broncos')\n",
      "('DET', 'Detroit', 'Lions')\n",
      "('GB', 'Green Bay', 'Packers')\n",
      "('HOU', 'Houston', 'Texans')\n",
      "('IND', 'Indianapolis', 'Colts')\n",
      "('JAC', 'Jacksonville', 'Jaguars')\n",
      "('KC', 'Kansas City', 'Chiefs')\n",
      "('MIA', 'Miami', 'Dolphins')\n",
      "('MIN', 'Minnesota', 'Vikings')\n",
      "('NE', 'New England', 'Patriots')\n",
      "('NO', 'New Orleans', 'Saints')\n",
      "('OAK', 'Oakland', 'Raiders')\n",
      "('PHI', 'Philadelphia', 'Eagles')\n",
      "('PIT', 'Pittsburgh', 'Steelers')\n",
      "('SD', 'San Diego', 'Chargers')\n",
      "('SEA', 'Seattle', 'Seahawks')\n",
      "('SF', 'San Francisco', '49ers')\n",
      "('STL', 'St. Louis', 'Rams')\n",
      "('TB', 'Tampa Bay', 'Buccaneers')\n",
      "('TEN', 'Tennessee', 'Titans')\n",
      "('WAS', 'Washington', 'Redskins')\n",
      "('UNK', 'UNK', 'UNK')\n",
      "('NYG', 'New York', 'Giants')\n",
      "('NYJ', 'New York', 'Jets')\n",
      "('LA', 'Los Angeles', 'Rams')\n"
     ]
    }
   ],
   "source": [
    "print('PostgreSQL database version:')\n",
    "cursor.execute(\"SELECT * from team\")\n",
    "rows = cursor.fetchall()\n",
    "for row in rows:\n",
    "    print(row)"
   ]
  }
 ],
 "metadata": {
  "kernelspec": {
   "display_name": "Python 2",
   "language": "python",
   "name": "python2"
  },
  "language_info": {
   "codemirror_mode": {
    "name": "ipython",
    "version": 2
   },
   "file_extension": ".py",
   "mimetype": "text/x-python",
   "name": "python",
   "nbconvert_exporter": "python",
   "pygments_lexer": "ipython2",
   "version": "2.7.14"
  }
 },
 "nbformat": 4,
 "nbformat_minor": 2
}
